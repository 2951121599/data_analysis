{
 "cells": [
  {
   "cell_type": "markdown",
   "source": [
    "### 计算rt值"
   ],
   "metadata": {
    "collapsed": false,
    "pycharm": {
     "name": "#%% md\n"
    }
   }
  },
  {
   "cell_type": "code",
   "execution_count": 1,
   "metadata": {
    "collapsed": true
   },
   "outputs": [],
   "source": [
    "import numpy as np\n",
    "import pandas as pd\n",
    "\n",
    "# 读csv文件\n",
    "input_data = np.array(pd.read_csv('posdata_lot1.csv'))"
   ]
  },
  {
   "cell_type": "code",
   "execution_count": 2,
   "outputs": [],
   "source": [
    "# 化合物名称,样本名称,面积\n",
    "feature = input_data[:,0]\n",
    "sample = input_data[:,1]\n",
    "rt = input_data[:,4]\n",
    "# feature,sample,area"
   ],
   "metadata": {
    "collapsed": false,
    "pycharm": {
     "name": "#%%\n"
    }
   }
  },
  {
   "cell_type": "code",
   "execution_count": 3,
   "outputs": [],
   "source": [
    "tuples = list(zip(*[list(feature),list(sample)]))\n",
    "index = pd.MultiIndex.from_tuples(tuples, names=['first','second'])\n",
    "# index"
   ],
   "metadata": {
    "collapsed": false,
    "pycharm": {
     "name": "#%%\n"
    }
   }
  },
  {
   "cell_type": "code",
   "execution_count": 4,
   "outputs": [],
   "source": [
    "rt =pd.DataFrame(rt,columns=['rt'])\n",
    "df = pd.DataFrame(rt.values, index=index,columns=['RT'])\n",
    "# df"
   ],
   "metadata": {
    "collapsed": false,
    "pycharm": {
     "name": "#%%\n"
    }
   }
  },
  {
   "cell_type": "code",
   "execution_count": 5,
   "outputs": [],
   "source": [
    "# 堆叠stack\n",
    "stacked = df.stack()\n",
    "# stacked"
   ],
   "metadata": {
    "collapsed": false,
    "pycharm": {
     "name": "#%%\n"
    }
   }
  },
  {
   "cell_type": "code",
   "execution_count": 6,
   "outputs": [
    {
     "data": {
      "text/plain": "second               yx0101 yx0102 yx0103 yx0104 yx0105 yx0106 yx0107 yx0108  \\\nfirst                                                                          \nX10.06_547.3433-1 RT   2.98   2.97   2.97   2.98   2.97      3   2.97   2.98   \nX10.06_547.3433-2 RT   2.68    2.7   2.68   2.68   2.69   2.67   2.68   2.69   \nX10.06_547.3433-3 RT   3.16   3.21   3.21   3.18    3.2    3.2    3.2   3.21   \nX10.26_393.2659-1 RT    2.4    2.4    2.4   2.39   2.39   2.39   2.39   2.39   \nX11.1_561.3672-1  RT   3.16   3.16   3.16   3.16   3.15   3.16   3.16   3.15   \n...                     ...    ...    ...    ...    ...    ...    ...    ...   \nX8.88_218.2116-1  RT   2.59   2.59    2.6    2.6   2.59   2.59   2.59    2.6   \nX9.35_262.2370-1  RT   2.69   2.69   2.68   2.68   2.68   2.67   2.68    2.7   \nX9.74_333.1467-1  RT   2.47   2.47   2.48   2.47   2.48   2.44   2.43   2.42   \nX9.74_333.1467-2  RT    2.7   2.71   2.71    2.7   2.69   2.69    2.7   2.69   \nX9.74_333.1467-3  RT   2.86   2.85   2.86   2.85   2.86   2.86   2.89   2.85   \n\nsecond               yx0109 yx0110  ... yx0145 yx0146 yx0147 yx01Cpooled_1  \\\nfirst                               ...                                      \nX10.06_547.3433-1 RT   2.98   2.97  ...      3   2.98   2.98          2.98   \nX10.06_547.3433-2 RT   2.69   2.68  ...   2.68   2.69   2.68          2.68   \nX10.06_547.3433-3 RT    3.2   3.18  ...   3.21   3.21   3.18           3.2   \nX10.26_393.2659-1 RT   2.39   2.39  ...    2.4    2.4   2.38          2.38   \nX11.1_561.3672-1  RT   3.16   3.15  ...   3.16   3.16   3.16          3.15   \n...                     ...    ...  ...    ...    ...    ...           ...   \nX8.88_218.2116-1  RT    2.6   2.58  ...   2.62   2.61   2.61           2.6   \nX9.35_262.2370-1  RT   2.68   2.68  ...   2.71   2.69   2.69          2.69   \nX9.74_333.1467-1  RT   2.57   2.48  ...   2.56   2.48   2.44          2.46   \nX9.74_333.1467-2  RT    2.7   2.68  ...    2.7   2.69    2.7          2.69   \nX9.74_333.1467-3  RT   2.89   2.85  ...   2.87   2.86   2.84          2.87   \n\nsecond               yx01IC20_1 yx01IC50_1 yx01ISBLK yx01Ipooled_1  \\\nfirst                                                                \nX10.06_547.3433-1 RT       2.98       2.97      2.98          2.98   \nX10.06_547.3433-2 RT       2.68        2.7       2.7          2.69   \nX10.06_547.3433-3 RT       3.15        3.2       3.2           3.2   \nX10.26_393.2659-1 RT       2.39       2.38       2.4          2.39   \nX11.1_561.3672-1  RT       3.15       3.15      3.15          3.16   \n...                         ...        ...       ...           ...   \nX8.88_218.2116-1  RT        2.6       2.61      2.59           2.6   \nX9.35_262.2370-1  RT       2.68       2.69      2.68          2.69   \nX9.74_333.1467-1  RT       2.48       2.46      2.46          2.46   \nX9.74_333.1467-2  RT       2.67       2.69       NaN           NaN   \nX9.74_333.1467-3  RT       2.85       2.86       NaN          2.92   \n\nsecond               yx01Ipooled_2 yx01Ipooled_3  \nfirst                                             \nX10.06_547.3433-1 RT          2.98          2.98  \nX10.06_547.3433-2 RT          2.69          2.68  \nX10.06_547.3433-3 RT           3.2           3.2  \nX10.26_393.2659-1 RT           2.4           2.4  \nX11.1_561.3672-1  RT          3.16          3.16  \n...                            ...           ...  \nX8.88_218.2116-1  RT          2.61          2.61  \nX9.35_262.2370-1  RT          2.69          2.69  \nX9.74_333.1467-1  RT          2.46          2.49  \nX9.74_333.1467-2  RT           2.7           2.7  \nX9.74_333.1467-3  RT          2.86          2.86  \n\n[82 rows x 54 columns]",
      "text/html": "<div>\n<style scoped>\n    .dataframe tbody tr th:only-of-type {\n        vertical-align: middle;\n    }\n\n    .dataframe tbody tr th {\n        vertical-align: top;\n    }\n\n    .dataframe thead th {\n        text-align: right;\n    }\n</style>\n<table border=\"1\" class=\"dataframe\">\n  <thead>\n    <tr style=\"text-align: right;\">\n      <th></th>\n      <th>second</th>\n      <th>yx0101</th>\n      <th>yx0102</th>\n      <th>yx0103</th>\n      <th>yx0104</th>\n      <th>yx0105</th>\n      <th>yx0106</th>\n      <th>yx0107</th>\n      <th>yx0108</th>\n      <th>yx0109</th>\n      <th>yx0110</th>\n      <th>...</th>\n      <th>yx0145</th>\n      <th>yx0146</th>\n      <th>yx0147</th>\n      <th>yx01Cpooled_1</th>\n      <th>yx01IC20_1</th>\n      <th>yx01IC50_1</th>\n      <th>yx01ISBLK</th>\n      <th>yx01Ipooled_1</th>\n      <th>yx01Ipooled_2</th>\n      <th>yx01Ipooled_3</th>\n    </tr>\n    <tr>\n      <th>first</th>\n      <th></th>\n      <th></th>\n      <th></th>\n      <th></th>\n      <th></th>\n      <th></th>\n      <th></th>\n      <th></th>\n      <th></th>\n      <th></th>\n      <th></th>\n      <th></th>\n      <th></th>\n      <th></th>\n      <th></th>\n      <th></th>\n      <th></th>\n      <th></th>\n      <th></th>\n      <th></th>\n      <th></th>\n      <th></th>\n    </tr>\n  </thead>\n  <tbody>\n    <tr>\n      <th>X10.06_547.3433-1</th>\n      <th>RT</th>\n      <td>2.98</td>\n      <td>2.97</td>\n      <td>2.97</td>\n      <td>2.98</td>\n      <td>2.97</td>\n      <td>3</td>\n      <td>2.97</td>\n      <td>2.98</td>\n      <td>2.98</td>\n      <td>2.97</td>\n      <td>...</td>\n      <td>3</td>\n      <td>2.98</td>\n      <td>2.98</td>\n      <td>2.98</td>\n      <td>2.98</td>\n      <td>2.97</td>\n      <td>2.98</td>\n      <td>2.98</td>\n      <td>2.98</td>\n      <td>2.98</td>\n    </tr>\n    <tr>\n      <th>X10.06_547.3433-2</th>\n      <th>RT</th>\n      <td>2.68</td>\n      <td>2.7</td>\n      <td>2.68</td>\n      <td>2.68</td>\n      <td>2.69</td>\n      <td>2.67</td>\n      <td>2.68</td>\n      <td>2.69</td>\n      <td>2.69</td>\n      <td>2.68</td>\n      <td>...</td>\n      <td>2.68</td>\n      <td>2.69</td>\n      <td>2.68</td>\n      <td>2.68</td>\n      <td>2.68</td>\n      <td>2.7</td>\n      <td>2.7</td>\n      <td>2.69</td>\n      <td>2.69</td>\n      <td>2.68</td>\n    </tr>\n    <tr>\n      <th>X10.06_547.3433-3</th>\n      <th>RT</th>\n      <td>3.16</td>\n      <td>3.21</td>\n      <td>3.21</td>\n      <td>3.18</td>\n      <td>3.2</td>\n      <td>3.2</td>\n      <td>3.2</td>\n      <td>3.21</td>\n      <td>3.2</td>\n      <td>3.18</td>\n      <td>...</td>\n      <td>3.21</td>\n      <td>3.21</td>\n      <td>3.18</td>\n      <td>3.2</td>\n      <td>3.15</td>\n      <td>3.2</td>\n      <td>3.2</td>\n      <td>3.2</td>\n      <td>3.2</td>\n      <td>3.2</td>\n    </tr>\n    <tr>\n      <th>X10.26_393.2659-1</th>\n      <th>RT</th>\n      <td>2.4</td>\n      <td>2.4</td>\n      <td>2.4</td>\n      <td>2.39</td>\n      <td>2.39</td>\n      <td>2.39</td>\n      <td>2.39</td>\n      <td>2.39</td>\n      <td>2.39</td>\n      <td>2.39</td>\n      <td>...</td>\n      <td>2.4</td>\n      <td>2.4</td>\n      <td>2.38</td>\n      <td>2.38</td>\n      <td>2.39</td>\n      <td>2.38</td>\n      <td>2.4</td>\n      <td>2.39</td>\n      <td>2.4</td>\n      <td>2.4</td>\n    </tr>\n    <tr>\n      <th>X11.1_561.3672-1</th>\n      <th>RT</th>\n      <td>3.16</td>\n      <td>3.16</td>\n      <td>3.16</td>\n      <td>3.16</td>\n      <td>3.15</td>\n      <td>3.16</td>\n      <td>3.16</td>\n      <td>3.15</td>\n      <td>3.16</td>\n      <td>3.15</td>\n      <td>...</td>\n      <td>3.16</td>\n      <td>3.16</td>\n      <td>3.16</td>\n      <td>3.15</td>\n      <td>3.15</td>\n      <td>3.15</td>\n      <td>3.15</td>\n      <td>3.16</td>\n      <td>3.16</td>\n      <td>3.16</td>\n    </tr>\n    <tr>\n      <th>...</th>\n      <th>...</th>\n      <td>...</td>\n      <td>...</td>\n      <td>...</td>\n      <td>...</td>\n      <td>...</td>\n      <td>...</td>\n      <td>...</td>\n      <td>...</td>\n      <td>...</td>\n      <td>...</td>\n      <td>...</td>\n      <td>...</td>\n      <td>...</td>\n      <td>...</td>\n      <td>...</td>\n      <td>...</td>\n      <td>...</td>\n      <td>...</td>\n      <td>...</td>\n      <td>...</td>\n      <td>...</td>\n    </tr>\n    <tr>\n      <th>X8.88_218.2116-1</th>\n      <th>RT</th>\n      <td>2.59</td>\n      <td>2.59</td>\n      <td>2.6</td>\n      <td>2.6</td>\n      <td>2.59</td>\n      <td>2.59</td>\n      <td>2.59</td>\n      <td>2.6</td>\n      <td>2.6</td>\n      <td>2.58</td>\n      <td>...</td>\n      <td>2.62</td>\n      <td>2.61</td>\n      <td>2.61</td>\n      <td>2.6</td>\n      <td>2.6</td>\n      <td>2.61</td>\n      <td>2.59</td>\n      <td>2.6</td>\n      <td>2.61</td>\n      <td>2.61</td>\n    </tr>\n    <tr>\n      <th>X9.35_262.2370-1</th>\n      <th>RT</th>\n      <td>2.69</td>\n      <td>2.69</td>\n      <td>2.68</td>\n      <td>2.68</td>\n      <td>2.68</td>\n      <td>2.67</td>\n      <td>2.68</td>\n      <td>2.7</td>\n      <td>2.68</td>\n      <td>2.68</td>\n      <td>...</td>\n      <td>2.71</td>\n      <td>2.69</td>\n      <td>2.69</td>\n      <td>2.69</td>\n      <td>2.68</td>\n      <td>2.69</td>\n      <td>2.68</td>\n      <td>2.69</td>\n      <td>2.69</td>\n      <td>2.69</td>\n    </tr>\n    <tr>\n      <th>X9.74_333.1467-1</th>\n      <th>RT</th>\n      <td>2.47</td>\n      <td>2.47</td>\n      <td>2.48</td>\n      <td>2.47</td>\n      <td>2.48</td>\n      <td>2.44</td>\n      <td>2.43</td>\n      <td>2.42</td>\n      <td>2.57</td>\n      <td>2.48</td>\n      <td>...</td>\n      <td>2.56</td>\n      <td>2.48</td>\n      <td>2.44</td>\n      <td>2.46</td>\n      <td>2.48</td>\n      <td>2.46</td>\n      <td>2.46</td>\n      <td>2.46</td>\n      <td>2.46</td>\n      <td>2.49</td>\n    </tr>\n    <tr>\n      <th>X9.74_333.1467-2</th>\n      <th>RT</th>\n      <td>2.7</td>\n      <td>2.71</td>\n      <td>2.71</td>\n      <td>2.7</td>\n      <td>2.69</td>\n      <td>2.69</td>\n      <td>2.7</td>\n      <td>2.69</td>\n      <td>2.7</td>\n      <td>2.68</td>\n      <td>...</td>\n      <td>2.7</td>\n      <td>2.69</td>\n      <td>2.7</td>\n      <td>2.69</td>\n      <td>2.67</td>\n      <td>2.69</td>\n      <td>NaN</td>\n      <td>NaN</td>\n      <td>2.7</td>\n      <td>2.7</td>\n    </tr>\n    <tr>\n      <th>X9.74_333.1467-3</th>\n      <th>RT</th>\n      <td>2.86</td>\n      <td>2.85</td>\n      <td>2.86</td>\n      <td>2.85</td>\n      <td>2.86</td>\n      <td>2.86</td>\n      <td>2.89</td>\n      <td>2.85</td>\n      <td>2.89</td>\n      <td>2.85</td>\n      <td>...</td>\n      <td>2.87</td>\n      <td>2.86</td>\n      <td>2.84</td>\n      <td>2.87</td>\n      <td>2.85</td>\n      <td>2.86</td>\n      <td>NaN</td>\n      <td>2.92</td>\n      <td>2.86</td>\n      <td>2.86</td>\n    </tr>\n  </tbody>\n</table>\n<p>82 rows × 54 columns</p>\n</div>"
     },
     "execution_count": 6,
     "metadata": {},
     "output_type": "execute_result"
    }
   ],
   "source": [
    "# 取消堆叠\n",
    "res = stacked.unstack(1)\n",
    "res"
   ],
   "metadata": {
    "collapsed": false,
    "pycharm": {
     "name": "#%%\n"
    }
   }
  },
  {
   "cell_type": "code",
   "execution_count": 7,
   "outputs": [],
   "source": [
    "# 写入csv文件\n",
    "res.to_csv('final_rt.csv')"
   ],
   "metadata": {
    "collapsed": false,
    "pycharm": {
     "name": "#%%\n"
    }
   }
  }
 ],
 "metadata": {
  "kernelspec": {
   "display_name": "Python 3",
   "language": "python",
   "name": "python3"
  },
  "language_info": {
   "codemirror_mode": {
    "name": "ipython",
    "version": 2
   },
   "file_extension": ".py",
   "mimetype": "text/x-python",
   "name": "python",
   "nbconvert_exporter": "python",
   "pygments_lexer": "ipython2",
   "version": "2.7.6"
  }
 },
 "nbformat": 4,
 "nbformat_minor": 0
}