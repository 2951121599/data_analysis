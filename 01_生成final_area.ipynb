{
 "cells": [
  {
   "cell_type": "markdown",
   "source": [
    "### 计算每个特征的area值"
   ],
   "metadata": {
    "collapsed": false,
    "pycharm": {
     "name": "#%% md\n"
    }
   }
  },
  {
   "cell_type": "code",
   "execution_count": 1,
   "metadata": {
    "collapsed": true
   },
   "outputs": [],
   "source": [
    "import numpy as np\n",
    "import pandas as pd\n",
    "\n",
    "# 读csv文件\n",
    "input_data = np.array(pd.read_csv('posdata_lot1.csv'))"
   ]
  },
  {
   "cell_type": "code",
   "execution_count": 2,
   "outputs": [],
   "source": [
    "# 化合物名称,样本名称,面积\n",
    "feature = input_data[:,0]\n",
    "sample = input_data[:,1]\n",
    "area = input_data[:,5]\n",
    "background = input_data[:,6]\n",
    "area = area - background  # area应该减去背景值\n",
    "# feature,sample,area"
   ],
   "metadata": {
    "collapsed": false,
    "pycharm": {
     "name": "#%%\n"
    }
   }
  },
  {
   "cell_type": "code",
   "execution_count": 3,
   "outputs": [],
   "source": [
    "tuples = list(zip(*[list(feature),list(sample)]))  # 将数据组织成元组的格式\n",
    "index = pd.MultiIndex.from_tuples(tuples, names=['first','second'])  # 对数据添加多个索引值\n",
    "# index"
   ],
   "metadata": {
    "collapsed": false,
    "pycharm": {
     "name": "#%%\n"
    }
   }
  },
  {
   "cell_type": "code",
   "execution_count": 4,
   "outputs": [],
   "source": [
    "area =pd.DataFrame(area,columns=['area'])\n",
    "df = pd.DataFrame(area.values, index=index,columns=['Area'])  # 设置列名\n",
    "# df"
   ],
   "metadata": {
    "collapsed": false,
    "pycharm": {
     "name": "#%%\n"
    }
   }
  },
  {
   "cell_type": "code",
   "execution_count": 5,
   "outputs": [],
   "source": [
    "# 堆叠stack\n",
    "stacked = df.stack()\n",
    "# stacked"
   ],
   "metadata": {
    "collapsed": false,
    "pycharm": {
     "name": "#%%\n"
    }
   }
  },
  {
   "cell_type": "code",
   "execution_count": 6,
   "outputs": [
    {
     "data": {
      "text/plain": "second                       yx0101       yx0102      yx0103       yx0104  \\\nfirst                                                                       \nX10.06_547.3433-1 Area       162207       135133      397861       210812   \nX10.06_547.3433-2 Area       280135       251947      232511       245256   \nX10.06_547.3433-3 Area       194654  1.36792e+06      767038       145577   \nX10.26_393.2659-1 Area       162203        70234      119779       172820   \nX11.1_561.3672-1  Area  1.45599e+06   1.9176e+07  1.0639e+07  1.24567e+06   \n...                             ...          ...         ...          ...   \nX8.88_218.2116-1  Area        78503       275770      146794       121610   \nX9.35_262.2370-1  Area        32921       571898      330126       185596   \nX9.74_333.1467-1  Area        21094          676        3173        29801   \nX9.74_333.1467-2  Area        18049         1724        7301        41878   \nX9.74_333.1467-3  Area        17508         4252        6422        39952   \n\nsecond                       yx0105       yx0106       yx0107       yx0108  \\\nfirst                                                                        \nX10.06_547.3433-1 Area       191039       247721       252752       194621   \nX10.06_547.3433-2 Area       279189       217278       286017       207668   \nX10.06_547.3433-3 Area       695524       499332       712135       569363   \nX10.26_393.2659-1 Area       160584       107417       100339       129263   \nX11.1_561.3672-1  Area  9.50932e+06  8.51667e+06  7.55757e+06  8.37887e+06   \n...                             ...          ...          ...          ...   \nX8.88_218.2116-1  Area        77164        64389       147301        68276   \nX9.35_262.2370-1  Area        50768        44819       168426        42859   \nX9.74_333.1467-1  Area         3515          541         1487        20081   \nX9.74_333.1467-2  Area         4455         2096         9937        46205   \nX9.74_333.1467-3  Area         6615         4597        11830        38329   \n\nsecond                       yx0109       yx0110  ...       yx0145  \\\nfirst                                             ...                \nX10.06_547.3433-1 Area       241130       165620  ...       184613   \nX10.06_547.3433-2 Area       215273       236196  ...       234269   \nX10.06_547.3433-3 Area       584438       410097  ...       370112   \nX10.26_393.2659-1 Area       154839       149817  ...       140473   \nX11.1_561.3672-1  Area  8.63303e+06  3.97312e+06  ...  4.80048e+06   \n...                             ...          ...  ...          ...   \nX8.88_218.2116-1  Area       128981       277600  ...       196480   \nX9.35_262.2370-1  Area       176340       495240  ...       297779   \nX9.74_333.1467-1  Area         2231          676  ...         3443   \nX9.74_333.1467-2  Area         6016         4732  ...         8653   \nX9.74_333.1467-3  Area         6615         5780  ...         9667   \n\nsecond                       yx0146      yx0147 yx01Cpooled_1   yx01IC20_1  \\\nfirst                                                                        \nX10.06_547.3433-1 Area       288315      258335        235452       207702   \nX10.06_547.3433-2 Area       248564      252108        309136       274727   \nX10.06_547.3433-3 Area       506528      405331        571919       333472   \nX10.26_393.2659-1 Area       147672      189777        214482       180732   \nX11.1_561.3672-1  Area  7.63337e+06  4.0551e+06   7.38332e+06  2.71649e+06   \n...                             ...         ...           ...          ...   \nX8.88_218.2116-1  Area       129758       98965        264379        60278   \nX9.35_262.2370-1  Area        92612      147707        460290        17347   \nX9.74_333.1467-1  Area         2603        1622         24333         1825   \nX9.74_333.1467-2  Area        15818        6760         52627         4462   \nX9.74_333.1467-3  Area        15616        9295         41473         5340   \n\nsecond                   yx01IC50_1    yx01ISBLK yx01Ipooled_1 yx01Ipooled_2  \\\nfirst                                                                          \nX10.06_547.3433-1 Area       227204        92205        248569        348344   \nX10.06_547.3433-2 Area       385963        90111        373931        208546   \nX10.06_547.3433-3 Area       477697       254042        505582        671237   \nX10.26_393.2659-1 Area       215224        40898        179238        115563   \nX11.1_561.3672-1  Area  6.21871e+06  2.09177e+06   5.77811e+06   9.56156e+06   \n...                             ...          ...           ...           ...   \nX8.88_218.2116-1  Area       266677        60401         93964        489112   \nX9.35_262.2370-1  Area       332627        15075        172516        629832   \nX9.74_333.1467-1  Area        18529          203           676          1755   \nX9.74_333.1467-2  Area        24235          NaN           NaN          4732   \nX9.74_333.1467-3  Area        37935          NaN          4529          6953   \n\nsecond                 yx01Ipooled_3  \nfirst                                 \nX10.06_547.3433-1 Area        269550  \nX10.06_547.3433-2 Area        346268  \nX10.06_547.3433-3 Area        520995  \nX10.26_393.2659-1 Area        175794  \nX11.1_561.3672-1  Area   6.10168e+06  \n...                              ...  \nX8.88_218.2116-1  Area        134525  \nX9.35_262.2370-1  Area        161227  \nX9.74_333.1467-1  Area          8247  \nX9.74_333.1467-2  Area         10478  \nX9.74_333.1467-3  Area         15086  \n\n[82 rows x 54 columns]",
      "text/html": "<div>\n<style scoped>\n    .dataframe tbody tr th:only-of-type {\n        vertical-align: middle;\n    }\n\n    .dataframe tbody tr th {\n        vertical-align: top;\n    }\n\n    .dataframe thead th {\n        text-align: right;\n    }\n</style>\n<table border=\"1\" class=\"dataframe\">\n  <thead>\n    <tr style=\"text-align: right;\">\n      <th></th>\n      <th>second</th>\n      <th>yx0101</th>\n      <th>yx0102</th>\n      <th>yx0103</th>\n      <th>yx0104</th>\n      <th>yx0105</th>\n      <th>yx0106</th>\n      <th>yx0107</th>\n      <th>yx0108</th>\n      <th>yx0109</th>\n      <th>yx0110</th>\n      <th>...</th>\n      <th>yx0145</th>\n      <th>yx0146</th>\n      <th>yx0147</th>\n      <th>yx01Cpooled_1</th>\n      <th>yx01IC20_1</th>\n      <th>yx01IC50_1</th>\n      <th>yx01ISBLK</th>\n      <th>yx01Ipooled_1</th>\n      <th>yx01Ipooled_2</th>\n      <th>yx01Ipooled_3</th>\n    </tr>\n    <tr>\n      <th>first</th>\n      <th></th>\n      <th></th>\n      <th></th>\n      <th></th>\n      <th></th>\n      <th></th>\n      <th></th>\n      <th></th>\n      <th></th>\n      <th></th>\n      <th></th>\n      <th></th>\n      <th></th>\n      <th></th>\n      <th></th>\n      <th></th>\n      <th></th>\n      <th></th>\n      <th></th>\n      <th></th>\n      <th></th>\n      <th></th>\n    </tr>\n  </thead>\n  <tbody>\n    <tr>\n      <th>X10.06_547.3433-1</th>\n      <th>Area</th>\n      <td>162207</td>\n      <td>135133</td>\n      <td>397861</td>\n      <td>210812</td>\n      <td>191039</td>\n      <td>247721</td>\n      <td>252752</td>\n      <td>194621</td>\n      <td>241130</td>\n      <td>165620</td>\n      <td>...</td>\n      <td>184613</td>\n      <td>288315</td>\n      <td>258335</td>\n      <td>235452</td>\n      <td>207702</td>\n      <td>227204</td>\n      <td>92205</td>\n      <td>248569</td>\n      <td>348344</td>\n      <td>269550</td>\n    </tr>\n    <tr>\n      <th>X10.06_547.3433-2</th>\n      <th>Area</th>\n      <td>280135</td>\n      <td>251947</td>\n      <td>232511</td>\n      <td>245256</td>\n      <td>279189</td>\n      <td>217278</td>\n      <td>286017</td>\n      <td>207668</td>\n      <td>215273</td>\n      <td>236196</td>\n      <td>...</td>\n      <td>234269</td>\n      <td>248564</td>\n      <td>252108</td>\n      <td>309136</td>\n      <td>274727</td>\n      <td>385963</td>\n      <td>90111</td>\n      <td>373931</td>\n      <td>208546</td>\n      <td>346268</td>\n    </tr>\n    <tr>\n      <th>X10.06_547.3433-3</th>\n      <th>Area</th>\n      <td>194654</td>\n      <td>1.36792e+06</td>\n      <td>767038</td>\n      <td>145577</td>\n      <td>695524</td>\n      <td>499332</td>\n      <td>712135</td>\n      <td>569363</td>\n      <td>584438</td>\n      <td>410097</td>\n      <td>...</td>\n      <td>370112</td>\n      <td>506528</td>\n      <td>405331</td>\n      <td>571919</td>\n      <td>333472</td>\n      <td>477697</td>\n      <td>254042</td>\n      <td>505582</td>\n      <td>671237</td>\n      <td>520995</td>\n    </tr>\n    <tr>\n      <th>X10.26_393.2659-1</th>\n      <th>Area</th>\n      <td>162203</td>\n      <td>70234</td>\n      <td>119779</td>\n      <td>172820</td>\n      <td>160584</td>\n      <td>107417</td>\n      <td>100339</td>\n      <td>129263</td>\n      <td>154839</td>\n      <td>149817</td>\n      <td>...</td>\n      <td>140473</td>\n      <td>147672</td>\n      <td>189777</td>\n      <td>214482</td>\n      <td>180732</td>\n      <td>215224</td>\n      <td>40898</td>\n      <td>179238</td>\n      <td>115563</td>\n      <td>175794</td>\n    </tr>\n    <tr>\n      <th>X11.1_561.3672-1</th>\n      <th>Area</th>\n      <td>1.45599e+06</td>\n      <td>1.9176e+07</td>\n      <td>1.0639e+07</td>\n      <td>1.24567e+06</td>\n      <td>9.50932e+06</td>\n      <td>8.51667e+06</td>\n      <td>7.55757e+06</td>\n      <td>8.37887e+06</td>\n      <td>8.63303e+06</td>\n      <td>3.97312e+06</td>\n      <td>...</td>\n      <td>4.80048e+06</td>\n      <td>7.63337e+06</td>\n      <td>4.0551e+06</td>\n      <td>7.38332e+06</td>\n      <td>2.71649e+06</td>\n      <td>6.21871e+06</td>\n      <td>2.09177e+06</td>\n      <td>5.77811e+06</td>\n      <td>9.56156e+06</td>\n      <td>6.10168e+06</td>\n    </tr>\n    <tr>\n      <th>...</th>\n      <th>...</th>\n      <td>...</td>\n      <td>...</td>\n      <td>...</td>\n      <td>...</td>\n      <td>...</td>\n      <td>...</td>\n      <td>...</td>\n      <td>...</td>\n      <td>...</td>\n      <td>...</td>\n      <td>...</td>\n      <td>...</td>\n      <td>...</td>\n      <td>...</td>\n      <td>...</td>\n      <td>...</td>\n      <td>...</td>\n      <td>...</td>\n      <td>...</td>\n      <td>...</td>\n      <td>...</td>\n    </tr>\n    <tr>\n      <th>X8.88_218.2116-1</th>\n      <th>Area</th>\n      <td>78503</td>\n      <td>275770</td>\n      <td>146794</td>\n      <td>121610</td>\n      <td>77164</td>\n      <td>64389</td>\n      <td>147301</td>\n      <td>68276</td>\n      <td>128981</td>\n      <td>277600</td>\n      <td>...</td>\n      <td>196480</td>\n      <td>129758</td>\n      <td>98965</td>\n      <td>264379</td>\n      <td>60278</td>\n      <td>266677</td>\n      <td>60401</td>\n      <td>93964</td>\n      <td>489112</td>\n      <td>134525</td>\n    </tr>\n    <tr>\n      <th>X9.35_262.2370-1</th>\n      <th>Area</th>\n      <td>32921</td>\n      <td>571898</td>\n      <td>330126</td>\n      <td>185596</td>\n      <td>50768</td>\n      <td>44819</td>\n      <td>168426</td>\n      <td>42859</td>\n      <td>176340</td>\n      <td>495240</td>\n      <td>...</td>\n      <td>297779</td>\n      <td>92612</td>\n      <td>147707</td>\n      <td>460290</td>\n      <td>17347</td>\n      <td>332627</td>\n      <td>15075</td>\n      <td>172516</td>\n      <td>629832</td>\n      <td>161227</td>\n    </tr>\n    <tr>\n      <th>X9.74_333.1467-1</th>\n      <th>Area</th>\n      <td>21094</td>\n      <td>676</td>\n      <td>3173</td>\n      <td>29801</td>\n      <td>3515</td>\n      <td>541</td>\n      <td>1487</td>\n      <td>20081</td>\n      <td>2231</td>\n      <td>676</td>\n      <td>...</td>\n      <td>3443</td>\n      <td>2603</td>\n      <td>1622</td>\n      <td>24333</td>\n      <td>1825</td>\n      <td>18529</td>\n      <td>203</td>\n      <td>676</td>\n      <td>1755</td>\n      <td>8247</td>\n    </tr>\n    <tr>\n      <th>X9.74_333.1467-2</th>\n      <th>Area</th>\n      <td>18049</td>\n      <td>1724</td>\n      <td>7301</td>\n      <td>41878</td>\n      <td>4455</td>\n      <td>2096</td>\n      <td>9937</td>\n      <td>46205</td>\n      <td>6016</td>\n      <td>4732</td>\n      <td>...</td>\n      <td>8653</td>\n      <td>15818</td>\n      <td>6760</td>\n      <td>52627</td>\n      <td>4462</td>\n      <td>24235</td>\n      <td>NaN</td>\n      <td>NaN</td>\n      <td>4732</td>\n      <td>10478</td>\n    </tr>\n    <tr>\n      <th>X9.74_333.1467-3</th>\n      <th>Area</th>\n      <td>17508</td>\n      <td>4252</td>\n      <td>6422</td>\n      <td>39952</td>\n      <td>6615</td>\n      <td>4597</td>\n      <td>11830</td>\n      <td>38329</td>\n      <td>6615</td>\n      <td>5780</td>\n      <td>...</td>\n      <td>9667</td>\n      <td>15616</td>\n      <td>9295</td>\n      <td>41473</td>\n      <td>5340</td>\n      <td>37935</td>\n      <td>NaN</td>\n      <td>4529</td>\n      <td>6953</td>\n      <td>15086</td>\n    </tr>\n  </tbody>\n</table>\n<p>82 rows × 54 columns</p>\n</div>"
     },
     "execution_count": 6,
     "metadata": {},
     "output_type": "execute_result"
    }
   ],
   "source": [
    "# 取消堆叠\n",
    "res = stacked.unstack(1)\n",
    "res"
   ],
   "metadata": {
    "collapsed": false,
    "pycharm": {
     "name": "#%%\n"
    }
   }
  },
  {
   "cell_type": "code",
   "execution_count": 7,
   "outputs": [],
   "source": [
    "# 写入csv文件\n",
    "res.to_csv('final_area.csv')"
   ],
   "metadata": {
    "collapsed": false,
    "pycharm": {
     "name": "#%%\n"
    }
   }
  }
 ],
 "metadata": {
  "kernelspec": {
   "display_name": "Python 3",
   "language": "python",
   "name": "python3"
  },
  "language_info": {
   "codemirror_mode": {
    "name": "ipython",
    "version": 2
   },
   "file_extension": ".py",
   "mimetype": "text/x-python",
   "name": "python",
   "nbconvert_exporter": "python",
   "pygments_lexer": "ipython2",
   "version": "2.7.6"
  }
 },
 "nbformat": 4,
 "nbformat_minor": 0
}