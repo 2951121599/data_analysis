{
 "cells": [
  {
   "cell_type": "markdown",
   "source": [
    "### 计算每个特征的area值"
   ],
   "metadata": {
    "collapsed": false,
    "pycharm": {
     "name": "#%% md\n"
    }
   }
  },
  {
   "cell_type": "code",
   "execution_count": 1,
   "metadata": {
    "collapsed": true
   },
   "outputs": [],
   "source": [
    "import numpy as np\n",
    "import pandas as pd\n",
    "\n",
    "# 读csv文件\n",
    "input_data = np.array(pd.read_csv('posdata_lot2.csv'))"
   ]
  },
  {
   "cell_type": "code",
   "execution_count": 2,
   "outputs": [],
   "source": [
    "# 化合物名称,样本名称,面积\n",
    "feature = input_data[:,0]\n",
    "sample = input_data[:,1]\n",
    "area = input_data[:,5]\n",
    "background = input_data[:,6]\n",
    "area = area - background  # area应该减去背景值\n",
    "# feature,sample,area"
   ],
   "metadata": {
    "collapsed": false,
    "pycharm": {
     "name": "#%%\n"
    }
   }
  },
  {
   "cell_type": "code",
   "execution_count": 3,
   "outputs": [],
   "source": [
    "tuples = list(zip(*[list(feature),list(sample)]))  # 将数据组织成元组的格式\n",
    "index = pd.MultiIndex.from_tuples(tuples, names=['first','second'])  # 对数据添加多个索引值\n",
    "# index"
   ],
   "metadata": {
    "collapsed": false,
    "pycharm": {
     "name": "#%%\n"
    }
   }
  },
  {
   "cell_type": "code",
   "execution_count": 4,
   "outputs": [],
   "source": [
    "area =pd.DataFrame(area,columns=['area'])\n",
    "df = pd.DataFrame(area.values, index=index,columns=['Area'])  # 设置列名\n",
    "# df"
   ],
   "metadata": {
    "collapsed": false,
    "pycharm": {
     "name": "#%%\n"
    }
   }
  },
  {
   "cell_type": "code",
   "execution_count": 5,
   "outputs": [],
   "source": [
    "# 堆叠stack\n",
    "stacked = df.stack()\n",
    "# stacked"
   ],
   "metadata": {
    "collapsed": false,
    "pycharm": {
     "name": "#%%\n"
    }
   }
  },
  {
   "cell_type": "code",
   "execution_count": 6,
   "outputs": [
    {
     "data": {
      "text/plain": "second                  yx0201  yx0202       yx0203  yx0204      yx0205  \\\nfirst                                                                     \n4.66_195.0870-1   Area    8416  422603       132733   58846  1.3876e+06   \nX10.06_547.3433-1 Area  193826  240927       130333  293013      239811   \nX10.06_547.3433-2 Area  315457  366956       339957  317147      249682   \nX10.06_547.3433-3 Area  161328  248974  1.63440e+06  525558      555573   \nX10.26_393.2659-1 Area  185157  199455       111983  134927      154771   \n...                        ...     ...          ...     ...         ...   \nX8.88_218.2116-1  Area  412150  116810       135268   93556       70877   \nX9.35_262.2370-1  Area  274558  149194       140913   74326       94742   \nX9.74_333.1467-1  Area    4259    2430         3853    3713       11087   \nX9.74_333.1467-2  Area    5746    4658         6885    8991       28088   \nX9.74_333.1467-3  Area   10275    9329        14568   12893       36065   \n\nsecond                  yx0206       yx0207  yx0208  yx0209       yx0210  ...  \\\nfirst                                                                     ...   \n4.66_195.0870-1   Area  165112        67129    3245   58609          676  ...   \nX10.06_547.3433-1 Area  302367       105625  180459  198440       175432  ...   \nX10.06_547.3433-2 Area  162275       251507  278513  262289       296859  ...   \nX10.06_547.3433-3 Area  634462  1.29367e+06  734409  594206       468706  ...   \nX10.26_393.2659-1 Area   94365        89503  161798  145159       155655  ...   \n...                        ...          ...     ...     ...          ...  ...   \nX8.88_218.2116-1  Area  170420       144766   81911  147943       465790  ...   \nX9.35_262.2370-1  Area  125872       168832   45901   43737  1.03831e+06  ...   \nX9.74_333.1467-1  Area    6929         1420    3718    1350         5340  ...   \nX9.74_333.1467-2  Area   21261         8551   10613    6152        21632  ...   \nX9.74_333.1467-3  Area   29879         7020   13689    9937        24064  ...   \n\nsecond                  yx0260  yx0261  yx0262 yx02Cpooled_1 yx02IC20_1  \\\nfirst                                                                     \n4.66_195.0870-1   Area  121781     879    5239        117253     153857   \nX10.06_547.3433-1 Area  254481  278682  270912        235992     300443   \nX10.06_547.3433-2 Area  446737  231159  358248        339116     337561   \nX10.06_547.3433-3 Area  428823  639363  904559        541951     692497   \nX10.26_393.2659-1 Area  214158  147031  183024        204762     194164   \n...                        ...     ...     ...           ...        ...   \nX8.88_218.2116-1  Area  417456  156022  182757        311089     317241   \nX9.35_262.2370-1  Area  754520  190768  142772        610362     256205   \nX9.74_333.1467-1  Area    4867    1284    3544         26325       6456   \nX9.74_333.1467-2  Area   22646   10444    6287         57900      13993   \nX9.74_333.1467-3  Area   43737   13790    9396         55162      28418   \n\nsecond                 yx02IC50_1 yx02ISBLK yx02Ipooled_1 yx02Ipooled_2  \\\nfirst                                                                     \n4.66_195.0870-1   Area     154298      2434        264722        203373   \nX10.06_547.3433-1 Area     300483    121038        239626        258154   \nX10.06_547.3433-2 Area     352197    128416        411674        331688   \nX10.06_547.3433-3 Area     504298    375207        622260        696973   \nX10.26_393.2659-1 Area     179449     96362        195061        224370   \n...                           ...       ...           ...           ...   \nX8.88_218.2116-1  Area     233622    241617        245727        231763   \nX9.35_262.2370-1  Area     373762     44751        216895        204960   \nX9.74_333.1467-1  Area      16055       338          3988          5746   \nX9.74_333.1467-2  Area      42081       473          5814         12540   \nX9.74_333.1467-3  Area      50666       NaN          9011         17880   \n\nsecond                 yx02Ipooled_3  \nfirst                                 \n4.66_195.0870-1   Area        163625  \nX10.06_547.3433-1 Area        321879  \nX10.06_547.3433-2 Area        398917  \nX10.06_547.3433-3 Area        547461  \nX10.26_393.2659-1 Area        224944  \n...                              ...  \nX8.88_218.2116-1  Area        266238  \nX9.35_262.2370-1  Area        227813  \nX9.74_333.1467-1  Area          9855  \nX9.74_333.1467-2  Area         19097  \nX9.74_333.1467-3  Area         34679  \n\n[82 rows x 68 columns]",
      "text/html": "<div>\n<style scoped>\n    .dataframe tbody tr th:only-of-type {\n        vertical-align: middle;\n    }\n\n    .dataframe tbody tr th {\n        vertical-align: top;\n    }\n\n    .dataframe thead th {\n        text-align: right;\n    }\n</style>\n<table border=\"1\" class=\"dataframe\">\n  <thead>\n    <tr style=\"text-align: right;\">\n      <th></th>\n      <th>second</th>\n      <th>yx0201</th>\n      <th>yx0202</th>\n      <th>yx0203</th>\n      <th>yx0204</th>\n      <th>yx0205</th>\n      <th>yx0206</th>\n      <th>yx0207</th>\n      <th>yx0208</th>\n      <th>yx0209</th>\n      <th>yx0210</th>\n      <th>...</th>\n      <th>yx0260</th>\n      <th>yx0261</th>\n      <th>yx0262</th>\n      <th>yx02Cpooled_1</th>\n      <th>yx02IC20_1</th>\n      <th>yx02IC50_1</th>\n      <th>yx02ISBLK</th>\n      <th>yx02Ipooled_1</th>\n      <th>yx02Ipooled_2</th>\n      <th>yx02Ipooled_3</th>\n    </tr>\n    <tr>\n      <th>first</th>\n      <th></th>\n      <th></th>\n      <th></th>\n      <th></th>\n      <th></th>\n      <th></th>\n      <th></th>\n      <th></th>\n      <th></th>\n      <th></th>\n      <th></th>\n      <th></th>\n      <th></th>\n      <th></th>\n      <th></th>\n      <th></th>\n      <th></th>\n      <th></th>\n      <th></th>\n      <th></th>\n      <th></th>\n      <th></th>\n    </tr>\n  </thead>\n  <tbody>\n    <tr>\n      <th>4.66_195.0870-1</th>\n      <th>Area</th>\n      <td>8416</td>\n      <td>422603</td>\n      <td>132733</td>\n      <td>58846</td>\n      <td>1.3876e+06</td>\n      <td>165112</td>\n      <td>67129</td>\n      <td>3245</td>\n      <td>58609</td>\n      <td>676</td>\n      <td>...</td>\n      <td>121781</td>\n      <td>879</td>\n      <td>5239</td>\n      <td>117253</td>\n      <td>153857</td>\n      <td>154298</td>\n      <td>2434</td>\n      <td>264722</td>\n      <td>203373</td>\n      <td>163625</td>\n    </tr>\n    <tr>\n      <th>X10.06_547.3433-1</th>\n      <th>Area</th>\n      <td>193826</td>\n      <td>240927</td>\n      <td>130333</td>\n      <td>293013</td>\n      <td>239811</td>\n      <td>302367</td>\n      <td>105625</td>\n      <td>180459</td>\n      <td>198440</td>\n      <td>175432</td>\n      <td>...</td>\n      <td>254481</td>\n      <td>278682</td>\n      <td>270912</td>\n      <td>235992</td>\n      <td>300443</td>\n      <td>300483</td>\n      <td>121038</td>\n      <td>239626</td>\n      <td>258154</td>\n      <td>321879</td>\n    </tr>\n    <tr>\n      <th>X10.06_547.3433-2</th>\n      <th>Area</th>\n      <td>315457</td>\n      <td>366956</td>\n      <td>339957</td>\n      <td>317147</td>\n      <td>249682</td>\n      <td>162275</td>\n      <td>251507</td>\n      <td>278513</td>\n      <td>262289</td>\n      <td>296859</td>\n      <td>...</td>\n      <td>446737</td>\n      <td>231159</td>\n      <td>358248</td>\n      <td>339116</td>\n      <td>337561</td>\n      <td>352197</td>\n      <td>128416</td>\n      <td>411674</td>\n      <td>331688</td>\n      <td>398917</td>\n    </tr>\n    <tr>\n      <th>X10.06_547.3433-3</th>\n      <th>Area</th>\n      <td>161328</td>\n      <td>248974</td>\n      <td>1.63440e+06</td>\n      <td>525558</td>\n      <td>555573</td>\n      <td>634462</td>\n      <td>1.29367e+06</td>\n      <td>734409</td>\n      <td>594206</td>\n      <td>468706</td>\n      <td>...</td>\n      <td>428823</td>\n      <td>639363</td>\n      <td>904559</td>\n      <td>541951</td>\n      <td>692497</td>\n      <td>504298</td>\n      <td>375207</td>\n      <td>622260</td>\n      <td>696973</td>\n      <td>547461</td>\n    </tr>\n    <tr>\n      <th>X10.26_393.2659-1</th>\n      <th>Area</th>\n      <td>185157</td>\n      <td>199455</td>\n      <td>111983</td>\n      <td>134927</td>\n      <td>154771</td>\n      <td>94365</td>\n      <td>89503</td>\n      <td>161798</td>\n      <td>145159</td>\n      <td>155655</td>\n      <td>...</td>\n      <td>214158</td>\n      <td>147031</td>\n      <td>183024</td>\n      <td>204762</td>\n      <td>194164</td>\n      <td>179449</td>\n      <td>96362</td>\n      <td>195061</td>\n      <td>224370</td>\n      <td>224944</td>\n    </tr>\n    <tr>\n      <th>...</th>\n      <th>...</th>\n      <td>...</td>\n      <td>...</td>\n      <td>...</td>\n      <td>...</td>\n      <td>...</td>\n      <td>...</td>\n      <td>...</td>\n      <td>...</td>\n      <td>...</td>\n      <td>...</td>\n      <td>...</td>\n      <td>...</td>\n      <td>...</td>\n      <td>...</td>\n      <td>...</td>\n      <td>...</td>\n      <td>...</td>\n      <td>...</td>\n      <td>...</td>\n      <td>...</td>\n      <td>...</td>\n    </tr>\n    <tr>\n      <th>X8.88_218.2116-1</th>\n      <th>Area</th>\n      <td>412150</td>\n      <td>116810</td>\n      <td>135268</td>\n      <td>93556</td>\n      <td>70877</td>\n      <td>170420</td>\n      <td>144766</td>\n      <td>81911</td>\n      <td>147943</td>\n      <td>465790</td>\n      <td>...</td>\n      <td>417456</td>\n      <td>156022</td>\n      <td>182757</td>\n      <td>311089</td>\n      <td>317241</td>\n      <td>233622</td>\n      <td>241617</td>\n      <td>245727</td>\n      <td>231763</td>\n      <td>266238</td>\n    </tr>\n    <tr>\n      <th>X9.35_262.2370-1</th>\n      <th>Area</th>\n      <td>274558</td>\n      <td>149194</td>\n      <td>140913</td>\n      <td>74326</td>\n      <td>94742</td>\n      <td>125872</td>\n      <td>168832</td>\n      <td>45901</td>\n      <td>43737</td>\n      <td>1.03831e+06</td>\n      <td>...</td>\n      <td>754520</td>\n      <td>190768</td>\n      <td>142772</td>\n      <td>610362</td>\n      <td>256205</td>\n      <td>373762</td>\n      <td>44751</td>\n      <td>216895</td>\n      <td>204960</td>\n      <td>227813</td>\n    </tr>\n    <tr>\n      <th>X9.74_333.1467-1</th>\n      <th>Area</th>\n      <td>4259</td>\n      <td>2430</td>\n      <td>3853</td>\n      <td>3713</td>\n      <td>11087</td>\n      <td>6929</td>\n      <td>1420</td>\n      <td>3718</td>\n      <td>1350</td>\n      <td>5340</td>\n      <td>...</td>\n      <td>4867</td>\n      <td>1284</td>\n      <td>3544</td>\n      <td>26325</td>\n      <td>6456</td>\n      <td>16055</td>\n      <td>338</td>\n      <td>3988</td>\n      <td>5746</td>\n      <td>9855</td>\n    </tr>\n    <tr>\n      <th>X9.74_333.1467-2</th>\n      <th>Area</th>\n      <td>5746</td>\n      <td>4658</td>\n      <td>6885</td>\n      <td>8991</td>\n      <td>28088</td>\n      <td>21261</td>\n      <td>8551</td>\n      <td>10613</td>\n      <td>6152</td>\n      <td>21632</td>\n      <td>...</td>\n      <td>22646</td>\n      <td>10444</td>\n      <td>6287</td>\n      <td>57900</td>\n      <td>13993</td>\n      <td>42081</td>\n      <td>473</td>\n      <td>5814</td>\n      <td>12540</td>\n      <td>19097</td>\n    </tr>\n    <tr>\n      <th>X9.74_333.1467-3</th>\n      <th>Area</th>\n      <td>10275</td>\n      <td>9329</td>\n      <td>14568</td>\n      <td>12893</td>\n      <td>36065</td>\n      <td>29879</td>\n      <td>7020</td>\n      <td>13689</td>\n      <td>9937</td>\n      <td>24064</td>\n      <td>...</td>\n      <td>43737</td>\n      <td>13790</td>\n      <td>9396</td>\n      <td>55162</td>\n      <td>28418</td>\n      <td>50666</td>\n      <td>NaN</td>\n      <td>9011</td>\n      <td>17880</td>\n      <td>34679</td>\n    </tr>\n  </tbody>\n</table>\n<p>82 rows × 68 columns</p>\n</div>"
     },
     "execution_count": 6,
     "metadata": {},
     "output_type": "execute_result"
    }
   ],
   "source": [
    "# 取消堆叠\n",
    "res = stacked.unstack(1)\n",
    "res"
   ],
   "metadata": {
    "collapsed": false,
    "pycharm": {
     "name": "#%%\n"
    }
   }
  },
  {
   "cell_type": "code",
   "execution_count": 7,
   "outputs": [],
   "source": [
    "# 写入csv文件\n",
    "res.to_csv('final_area.csv')"
   ],
   "metadata": {
    "collapsed": false,
    "pycharm": {
     "name": "#%%\n"
    }
   }
  }
 ],
 "metadata": {
  "kernelspec": {
   "display_name": "Python 3",
   "language": "python",
   "name": "python3"
  },
  "language_info": {
   "codemirror_mode": {
    "name": "ipython",
    "version": 2
   },
   "file_extension": ".py",
   "mimetype": "text/x-python",
   "name": "python",
   "nbconvert_exporter": "python",
   "pygments_lexer": "ipython2",
   "version": "2.7.6"
  }
 },
 "nbformat": 4,
 "nbformat_minor": 0
}