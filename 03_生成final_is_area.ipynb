{
 "cells": [
  {
   "cell_type": "markdown",
   "metadata": {
    "collapsed": true,
    "pycharm": {
     "name": "#%% md\n"
    }
   },
   "source": [
    "### 计算每个内标area值"
   ]
  },
  {
   "cell_type": "code",
   "execution_count": 1,
   "outputs": [],
   "source": [
    "import numpy as np\n",
    "import pandas as pd\n",
    "\n",
    "# 读csv文件\n",
    "input_data = np.array(pd.read_csv('is_posdata_lot2.csv'))"
   ],
   "metadata": {
    "collapsed": false,
    "pycharm": {
     "name": "#%%\n"
    }
   }
  },
  {
   "cell_type": "code",
   "execution_count": 2,
   "outputs": [],
   "source": [
    "# 化合物名称,样本名称,面积\n",
    "feature = input_data[:,0]\n",
    "sample = input_data[:,1]\n",
    "area = input_data[:,5]\n",
    "background = input_data[:,6]\n",
    "area = area - background  # area应该减去背景值\n",
    "# feature,sample,area"
   ],
   "metadata": {
    "collapsed": false,
    "pycharm": {
     "name": "#%%\n"
    }
   }
  },
  {
   "cell_type": "code",
   "execution_count": 3,
   "outputs": [],
   "source": [
    "tuples = list(zip(*[list(feature),list(sample)]))  # 将数据组织成元组的格式\n",
    "index = pd.MultiIndex.from_tuples(tuples, names=['first','second'])  # 对数据添加多个索引值\n",
    "# index"
   ],
   "metadata": {
    "collapsed": false,
    "pycharm": {
     "name": "#%%\n"
    }
   }
  },
  {
   "cell_type": "code",
   "execution_count": 4,
   "outputs": [],
   "source": [
    "area =pd.DataFrame(area,columns=['area'])\n",
    "df = pd.DataFrame(area.values, index=index,columns=['IS_Area'])  # 设置列名\n",
    "# df"
   ],
   "metadata": {
    "collapsed": false,
    "pycharm": {
     "name": "#%%\n"
    }
   }
  },
  {
   "cell_type": "code",
   "execution_count": 5,
   "outputs": [],
   "source": [
    "# 堆叠stack\n",
    "stacked = df.stack()\n",
    "# stacked"
   ],
   "metadata": {
    "collapsed": false,
    "pycharm": {
     "name": "#%%\n"
    }
   }
  },
  {
   "cell_type": "code",
   "execution_count": 6,
   "outputs": [
    {
     "data": {
      "text/plain": "second                  yx0201   yx0202   yx0203   yx0204   yx0205   yx0206  \\\nfirst                                                                         \nLuopaikayin_1 IS_Area  3691488  3678155  3734061  3716276  3696051  4004261   \ndifukete      IS_Area   127221   100353    79734    94674    96159   122591   \nkapeitabin    IS_Area   747828   907876   727886   782563   619415   726973   \nlifuping      IS_Area    50497    22646    13905    26939    18522    33327   \nlvbingqing    IS_Area     7087     8247     5062     6084     6016     8842   \npifeinitong   IS_Area   362779   477395   471512   524071   394211   396496   \n\nsecond                  yx0207   yx0208   yx0209   yx0210  ...   yx0260  \\\nfirst                                                      ...            \nLuopaikayin_1 IS_Area  3718370  3531731  3620440  3564331  ...  2906412   \ndifukete      IS_Area    83926    93656    91159    96094  ...   100251   \nkapeitabin    IS_Area   462072   764844   780647   857847  ...   642135   \nlifuping      IS_Area    24944    28054    33699    19198  ...    18387   \nlvbingqing    IS_Area     6152     6682     5231     6075  ...     5205   \npifeinitong   IS_Area   408409   327983   536558   428558  ...   307378   \n\nsecond                  yx0261   yx0262 yx02Cpooled_1 yx02IC20_1 yx02IC50_1  \\\nfirst                                                                         \nLuopaikayin_1 IS_Area  2991981  2729334       3132408    3397183    3237431   \ndifukete      IS_Area   108059    97410        102955      83723     103158   \nkapeitabin    IS_Area   694745   733361        648929     725221     720935   \nlifuping      IS_Area    26567    24066         22916      25147      23085   \nlvbingqing    IS_Area     7166     5138          6895       8450       7425   \npifeinitong   IS_Area   427681   341077        280609     319613     332573   \n\nsecond                yx02ISBLK yx02Ipooled_1 yx02Ipooled_2 yx02Ipooled_3  \nfirst                                                                      \nLuopaikayin_1 IS_Area   1482778       3861610       3223505       2825079  \ndifukete      IS_Area    120326        101772         93626         91394  \nkapeitabin    IS_Area    744921        671930        720395        653300  \nlifuping      IS_Area     18996         39884         28392         18996  \nlvbingqing    IS_Area      5476          5872          5332          5476  \npifeinitong   IS_Area      6219        353431        330717        325519  \n\n[6 rows x 68 columns]",
      "text/html": "<div>\n<style scoped>\n    .dataframe tbody tr th:only-of-type {\n        vertical-align: middle;\n    }\n\n    .dataframe tbody tr th {\n        vertical-align: top;\n    }\n\n    .dataframe thead th {\n        text-align: right;\n    }\n</style>\n<table border=\"1\" class=\"dataframe\">\n  <thead>\n    <tr style=\"text-align: right;\">\n      <th></th>\n      <th>second</th>\n      <th>yx0201</th>\n      <th>yx0202</th>\n      <th>yx0203</th>\n      <th>yx0204</th>\n      <th>yx0205</th>\n      <th>yx0206</th>\n      <th>yx0207</th>\n      <th>yx0208</th>\n      <th>yx0209</th>\n      <th>yx0210</th>\n      <th>...</th>\n      <th>yx0260</th>\n      <th>yx0261</th>\n      <th>yx0262</th>\n      <th>yx02Cpooled_1</th>\n      <th>yx02IC20_1</th>\n      <th>yx02IC50_1</th>\n      <th>yx02ISBLK</th>\n      <th>yx02Ipooled_1</th>\n      <th>yx02Ipooled_2</th>\n      <th>yx02Ipooled_3</th>\n    </tr>\n    <tr>\n      <th>first</th>\n      <th></th>\n      <th></th>\n      <th></th>\n      <th></th>\n      <th></th>\n      <th></th>\n      <th></th>\n      <th></th>\n      <th></th>\n      <th></th>\n      <th></th>\n      <th></th>\n      <th></th>\n      <th></th>\n      <th></th>\n      <th></th>\n      <th></th>\n      <th></th>\n      <th></th>\n      <th></th>\n      <th></th>\n      <th></th>\n    </tr>\n  </thead>\n  <tbody>\n    <tr>\n      <th>Luopaikayin_1</th>\n      <th>IS_Area</th>\n      <td>3691488</td>\n      <td>3678155</td>\n      <td>3734061</td>\n      <td>3716276</td>\n      <td>3696051</td>\n      <td>4004261</td>\n      <td>3718370</td>\n      <td>3531731</td>\n      <td>3620440</td>\n      <td>3564331</td>\n      <td>...</td>\n      <td>2906412</td>\n      <td>2991981</td>\n      <td>2729334</td>\n      <td>3132408</td>\n      <td>3397183</td>\n      <td>3237431</td>\n      <td>1482778</td>\n      <td>3861610</td>\n      <td>3223505</td>\n      <td>2825079</td>\n    </tr>\n    <tr>\n      <th>difukete</th>\n      <th>IS_Area</th>\n      <td>127221</td>\n      <td>100353</td>\n      <td>79734</td>\n      <td>94674</td>\n      <td>96159</td>\n      <td>122591</td>\n      <td>83926</td>\n      <td>93656</td>\n      <td>91159</td>\n      <td>96094</td>\n      <td>...</td>\n      <td>100251</td>\n      <td>108059</td>\n      <td>97410</td>\n      <td>102955</td>\n      <td>83723</td>\n      <td>103158</td>\n      <td>120326</td>\n      <td>101772</td>\n      <td>93626</td>\n      <td>91394</td>\n    </tr>\n    <tr>\n      <th>kapeitabin</th>\n      <th>IS_Area</th>\n      <td>747828</td>\n      <td>907876</td>\n      <td>727886</td>\n      <td>782563</td>\n      <td>619415</td>\n      <td>726973</td>\n      <td>462072</td>\n      <td>764844</td>\n      <td>780647</td>\n      <td>857847</td>\n      <td>...</td>\n      <td>642135</td>\n      <td>694745</td>\n      <td>733361</td>\n      <td>648929</td>\n      <td>725221</td>\n      <td>720935</td>\n      <td>744921</td>\n      <td>671930</td>\n      <td>720395</td>\n      <td>653300</td>\n    </tr>\n    <tr>\n      <th>lifuping</th>\n      <th>IS_Area</th>\n      <td>50497</td>\n      <td>22646</td>\n      <td>13905</td>\n      <td>26939</td>\n      <td>18522</td>\n      <td>33327</td>\n      <td>24944</td>\n      <td>28054</td>\n      <td>33699</td>\n      <td>19198</td>\n      <td>...</td>\n      <td>18387</td>\n      <td>26567</td>\n      <td>24066</td>\n      <td>22916</td>\n      <td>25147</td>\n      <td>23085</td>\n      <td>18996</td>\n      <td>39884</td>\n      <td>28392</td>\n      <td>18996</td>\n    </tr>\n    <tr>\n      <th>lvbingqing</th>\n      <th>IS_Area</th>\n      <td>7087</td>\n      <td>8247</td>\n      <td>5062</td>\n      <td>6084</td>\n      <td>6016</td>\n      <td>8842</td>\n      <td>6152</td>\n      <td>6682</td>\n      <td>5231</td>\n      <td>6075</td>\n      <td>...</td>\n      <td>5205</td>\n      <td>7166</td>\n      <td>5138</td>\n      <td>6895</td>\n      <td>8450</td>\n      <td>7425</td>\n      <td>5476</td>\n      <td>5872</td>\n      <td>5332</td>\n      <td>5476</td>\n    </tr>\n    <tr>\n      <th>pifeinitong</th>\n      <th>IS_Area</th>\n      <td>362779</td>\n      <td>477395</td>\n      <td>471512</td>\n      <td>524071</td>\n      <td>394211</td>\n      <td>396496</td>\n      <td>408409</td>\n      <td>327983</td>\n      <td>536558</td>\n      <td>428558</td>\n      <td>...</td>\n      <td>307378</td>\n      <td>427681</td>\n      <td>341077</td>\n      <td>280609</td>\n      <td>319613</td>\n      <td>332573</td>\n      <td>6219</td>\n      <td>353431</td>\n      <td>330717</td>\n      <td>325519</td>\n    </tr>\n  </tbody>\n</table>\n<p>6 rows × 68 columns</p>\n</div>"
     },
     "execution_count": 6,
     "metadata": {},
     "output_type": "execute_result"
    }
   ],
   "source": [
    "# 取消堆叠\n",
    "res = stacked.unstack(1)\n",
    "res"
   ],
   "metadata": {
    "collapsed": false,
    "pycharm": {
     "name": "#%%\n"
    }
   }
  },
  {
   "cell_type": "code",
   "execution_count": 7,
   "outputs": [],
   "source": [
    "# 写入csv文件\n",
    "res.to_csv('final_is_area.csv')"
   ],
   "metadata": {
    "collapsed": false,
    "pycharm": {
     "name": "#%%\n"
    }
   }
  }
 ],
 "metadata": {
  "kernelspec": {
   "display_name": "Python 3",
   "language": "python",
   "name": "python3"
  },
  "language_info": {
   "codemirror_mode": {
    "name": "ipython",
    "version": 2
   },
   "file_extension": ".py",
   "mimetype": "text/x-python",
   "name": "python",
   "nbconvert_exporter": "python",
   "pygments_lexer": "ipython2",
   "version": "2.7.6"
  }
 },
 "nbformat": 4,
 "nbformat_minor": 0
}