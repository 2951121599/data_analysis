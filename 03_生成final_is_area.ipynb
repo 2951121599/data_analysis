{
 "cells": [
  {
   "cell_type": "markdown",
   "metadata": {
    "collapsed": true,
    "pycharm": {
     "name": "#%% md\n"
    }
   },
   "source": [
    "### 计算每个内标area值"
   ]
  },
  {
   "cell_type": "code",
   "execution_count": null,
   "outputs": [],
   "source": [
    "import numpy as np\n",
    "import pandas as pd\n",
    "\n",
    "# 读csv文件\n",
    "input_data = np.array(pd.read_csv('is_posdata_lot1.csv'))"
   ],
   "metadata": {
    "collapsed": false,
    "pycharm": {
     "name": "#%%\n"
    }
   }
  },
  {
   "cell_type": "code",
   "execution_count": 16,
   "outputs": [],
   "source": [
    "# 化合物名称,样本名称,面积\n",
    "feature = input_data[:,0]\n",
    "sample = input_data[:,1]\n",
    "area = input_data[:,5]\n",
    "background = input_data[:,6]\n",
    "area = area - background  # area应该减去背景值\n",
    "# feature,sample,area"
   ],
   "metadata": {
    "collapsed": false,
    "pycharm": {
     "name": "#%%\n"
    }
   }
  },
  {
   "cell_type": "code",
   "execution_count": 17,
   "outputs": [],
   "source": [
    "tuples = list(zip(*[list(feature),list(sample)]))  # 将数据组织成元组的格式\n",
    "index = pd.MultiIndex.from_tuples(tuples, names=['first','second'])  # 对数据添加多个索引值\n",
    "# index"
   ],
   "metadata": {
    "collapsed": false,
    "pycharm": {
     "name": "#%%\n"
    }
   }
  },
  {
   "cell_type": "code",
   "execution_count": 18,
   "outputs": [],
   "source": [
    "area =pd.DataFrame(area,columns=['area'])\n",
    "df = pd.DataFrame(area.values, index=index,columns=['IS_Area'])  # 设置列名\n",
    "# df"
   ],
   "metadata": {
    "collapsed": false,
    "pycharm": {
     "name": "#%%\n"
    }
   }
  },
  {
   "cell_type": "code",
   "execution_count": 19,
   "outputs": [],
   "source": [
    "# 堆叠stack\n",
    "stacked = df.stack()\n",
    "# stacked"
   ],
   "metadata": {
    "collapsed": false,
    "pycharm": {
     "name": "#%%\n"
    }
   }
  },
  {
   "cell_type": "code",
   "execution_count": 20,
   "outputs": [
    {
     "data": {
      "text/plain": "second                      yx0101       yx0102       yx0103       yx0104  \\\nfirst                                                                       \nLuopaikayin_1 IS_Area  3.09454e+06  3.22731e+06  3.38624e+06  3.05626e+06   \ndifukete      IS_Area        74766        77639        88590        88489   \nkapeitabin    IS_Area       576890       437671       495071       539528   \nlifuping      IS_Area        19198        23795        31569        18184   \nlvbingqing    IS_Area        11137         8720        11086        47080   \npifeinitong   IS_Area       286336       439932       474689       501087   \n\nsecond                      yx0105       yx0106      yx0107       yx0108  \\\nfirst                                                                      \nLuopaikayin_1 IS_Area  3.12505e+06  3.71911e+06  3.0636e+06  3.07353e+06   \ndifukete      IS_Area        84264        94672       95551        81222   \nkapeitabin    IS_Area       487635       526911      527181       538639   \nlifuping      IS_Area        26663        30691       25853        22240   \nlvbingqing    IS_Area         9734        10125        8606        10057   \npifeinitong   IS_Area       398487       490845      341618       306518   \n\nsecond                      yx0109       yx0110  ...       yx0145  \\\nfirst                                            ...                \nLuopaikayin_1 IS_Area  3.46959e+06  2.95324e+06  ...  3.00124e+06   \ndifukete      IS_Area        94742        96633  ...       114616   \nkapeitabin    IS_Area       555998       693072  ...       629405   \nlifuping      IS_Area        34223        30386  ...        25958   \nlvbingqing    IS_Area         9787        11340  ...        11086   \npifeinitong   IS_Area       342023       359025  ...       331715   \n\nsecond                      yx0146       yx0147 yx01Cpooled_1   yx01IC20_1  \\\nfirst                                                                        \nLuopaikayin_1 IS_Area  3.28306e+06  2.84993e+06   2.81654e+06  3.05788e+06   \ndifukete      IS_Area       107653       108735         83486        82608   \nkapeitabin    IS_Area       725289       662009        605800       612290   \nlifuping      IS_Area        85852        32043         19672        30826   \nlvbingqing    IS_Area         9720        11965          9126        11745   \npifeinitong   IS_Area       426634       307666        236533       371599   \n\nsecond                  yx01IC50_1 yx01ISBLK yx01Ipooled_1 yx01Ipooled_2  \\\nfirst                                                                      \nLuopaikayin_1 IS_Area  3.02474e+06    653985   2.87139e+06   3.18487e+06   \ndifukete      IS_Area        92443     72163         78435         78617   \nkapeitabin    IS_Area       576292    280102        469362        540068   \nlifuping      IS_Area        27000      8978         33192         36166   \nlvbingqing    IS_Area         8856      6084          9180         11154   \npifeinitong   IS_Area       263540      4590        352317        358121   \n\nsecond                yx01Ipooled_3  \nfirst                                \nLuopaikayin_1 IS_Area   3.20152e+06  \ndifukete      IS_Area         83824  \nkapeitabin    IS_Area        578037  \nlifuping      IS_Area         23930  \nlvbingqing    IS_Area         10005  \npifeinitong   IS_Area        293187  \n\n[6 rows x 54 columns]",
      "text/html": "<div>\n<style scoped>\n    .dataframe tbody tr th:only-of-type {\n        vertical-align: middle;\n    }\n\n    .dataframe tbody tr th {\n        vertical-align: top;\n    }\n\n    .dataframe thead th {\n        text-align: right;\n    }\n</style>\n<table border=\"1\" class=\"dataframe\">\n  <thead>\n    <tr style=\"text-align: right;\">\n      <th></th>\n      <th>second</th>\n      <th>yx0101</th>\n      <th>yx0102</th>\n      <th>yx0103</th>\n      <th>yx0104</th>\n      <th>yx0105</th>\n      <th>yx0106</th>\n      <th>yx0107</th>\n      <th>yx0108</th>\n      <th>yx0109</th>\n      <th>yx0110</th>\n      <th>...</th>\n      <th>yx0145</th>\n      <th>yx0146</th>\n      <th>yx0147</th>\n      <th>yx01Cpooled_1</th>\n      <th>yx01IC20_1</th>\n      <th>yx01IC50_1</th>\n      <th>yx01ISBLK</th>\n      <th>yx01Ipooled_1</th>\n      <th>yx01Ipooled_2</th>\n      <th>yx01Ipooled_3</th>\n    </tr>\n    <tr>\n      <th>first</th>\n      <th></th>\n      <th></th>\n      <th></th>\n      <th></th>\n      <th></th>\n      <th></th>\n      <th></th>\n      <th></th>\n      <th></th>\n      <th></th>\n      <th></th>\n      <th></th>\n      <th></th>\n      <th></th>\n      <th></th>\n      <th></th>\n      <th></th>\n      <th></th>\n      <th></th>\n      <th></th>\n      <th></th>\n      <th></th>\n    </tr>\n  </thead>\n  <tbody>\n    <tr>\n      <th>Luopaikayin_1</th>\n      <th>IS_Area</th>\n      <td>3.09454e+06</td>\n      <td>3.22731e+06</td>\n      <td>3.38624e+06</td>\n      <td>3.05626e+06</td>\n      <td>3.12505e+06</td>\n      <td>3.71911e+06</td>\n      <td>3.0636e+06</td>\n      <td>3.07353e+06</td>\n      <td>3.46959e+06</td>\n      <td>2.95324e+06</td>\n      <td>...</td>\n      <td>3.00124e+06</td>\n      <td>3.28306e+06</td>\n      <td>2.84993e+06</td>\n      <td>2.81654e+06</td>\n      <td>3.05788e+06</td>\n      <td>3.02474e+06</td>\n      <td>653985</td>\n      <td>2.87139e+06</td>\n      <td>3.18487e+06</td>\n      <td>3.20152e+06</td>\n    </tr>\n    <tr>\n      <th>difukete</th>\n      <th>IS_Area</th>\n      <td>74766</td>\n      <td>77639</td>\n      <td>88590</td>\n      <td>88489</td>\n      <td>84264</td>\n      <td>94672</td>\n      <td>95551</td>\n      <td>81222</td>\n      <td>94742</td>\n      <td>96633</td>\n      <td>...</td>\n      <td>114616</td>\n      <td>107653</td>\n      <td>108735</td>\n      <td>83486</td>\n      <td>82608</td>\n      <td>92443</td>\n      <td>72163</td>\n      <td>78435</td>\n      <td>78617</td>\n      <td>83824</td>\n    </tr>\n    <tr>\n      <th>kapeitabin</th>\n      <th>IS_Area</th>\n      <td>576890</td>\n      <td>437671</td>\n      <td>495071</td>\n      <td>539528</td>\n      <td>487635</td>\n      <td>526911</td>\n      <td>527181</td>\n      <td>538639</td>\n      <td>555998</td>\n      <td>693072</td>\n      <td>...</td>\n      <td>629405</td>\n      <td>725289</td>\n      <td>662009</td>\n      <td>605800</td>\n      <td>612290</td>\n      <td>576292</td>\n      <td>280102</td>\n      <td>469362</td>\n      <td>540068</td>\n      <td>578037</td>\n    </tr>\n    <tr>\n      <th>lifuping</th>\n      <th>IS_Area</th>\n      <td>19198</td>\n      <td>23795</td>\n      <td>31569</td>\n      <td>18184</td>\n      <td>26663</td>\n      <td>30691</td>\n      <td>25853</td>\n      <td>22240</td>\n      <td>34223</td>\n      <td>30386</td>\n      <td>...</td>\n      <td>25958</td>\n      <td>85852</td>\n      <td>32043</td>\n      <td>19672</td>\n      <td>30826</td>\n      <td>27000</td>\n      <td>8978</td>\n      <td>33192</td>\n      <td>36166</td>\n      <td>23930</td>\n    </tr>\n    <tr>\n      <th>lvbingqing</th>\n      <th>IS_Area</th>\n      <td>11137</td>\n      <td>8720</td>\n      <td>11086</td>\n      <td>47080</td>\n      <td>9734</td>\n      <td>10125</td>\n      <td>8606</td>\n      <td>10057</td>\n      <td>9787</td>\n      <td>11340</td>\n      <td>...</td>\n      <td>11086</td>\n      <td>9720</td>\n      <td>11965</td>\n      <td>9126</td>\n      <td>11745</td>\n      <td>8856</td>\n      <td>6084</td>\n      <td>9180</td>\n      <td>11154</td>\n      <td>10005</td>\n    </tr>\n    <tr>\n      <th>pifeinitong</th>\n      <th>IS_Area</th>\n      <td>286336</td>\n      <td>439932</td>\n      <td>474689</td>\n      <td>501087</td>\n      <td>398487</td>\n      <td>490845</td>\n      <td>341618</td>\n      <td>306518</td>\n      <td>342023</td>\n      <td>359025</td>\n      <td>...</td>\n      <td>331715</td>\n      <td>426634</td>\n      <td>307666</td>\n      <td>236533</td>\n      <td>371599</td>\n      <td>263540</td>\n      <td>4590</td>\n      <td>352317</td>\n      <td>358121</td>\n      <td>293187</td>\n    </tr>\n  </tbody>\n</table>\n<p>6 rows × 54 columns</p>\n</div>"
     },
     "execution_count": 20,
     "metadata": {},
     "output_type": "execute_result"
    }
   ],
   "source": [
    "# 取消堆叠\n",
    "res = stacked.unstack(1)\n",
    "res"
   ],
   "metadata": {
    "collapsed": false,
    "pycharm": {
     "name": "#%%\n"
    }
   }
  },
  {
   "cell_type": "code",
   "execution_count": 21,
   "outputs": [],
   "source": [
    "# 写入csv文件\n",
    "res.to_csv('final_is_area.csv')"
   ],
   "metadata": {
    "collapsed": false,
    "pycharm": {
     "name": "#%%\n"
    }
   }
  }
 ],
 "metadata": {
  "kernelspec": {
   "display_name": "Python 3",
   "language": "python",
   "name": "python3"
  },
  "language_info": {
   "codemirror_mode": {
    "name": "ipython",
    "version": 2
   },
   "file_extension": ".py",
   "mimetype": "text/x-python",
   "name": "python",
   "nbconvert_exporter": "python",
   "pygments_lexer": "ipython2",
   "version": "2.7.6"
  }
 },
 "nbformat": 4,
 "nbformat_minor": 0
}